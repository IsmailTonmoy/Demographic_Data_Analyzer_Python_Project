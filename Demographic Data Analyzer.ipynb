{
 "cells": [
  {
   "cell_type": "code",
   "execution_count": 128,
   "id": "45463d5c-1184-4545-b516-d893f3089d2b",
   "metadata": {},
   "outputs": [],
   "source": [
    "import pandas as pd"
   ]
  },
  {
   "cell_type": "markdown",
   "id": "96eaedf1-a1e1-4610-84b9-1375ebcadc83",
   "metadata": {},
   "source": [
    "# Load the dataset"
   ]
  },
  {
   "cell_type": "code",
   "execution_count": 4,
   "id": "69d3827c-2a4c-474e-9f75-5ec22ac3c098",
   "metadata": {},
   "outputs": [],
   "source": [
    "df = pd.read_csv('adult.data.csv')"
   ]
  },
  {
   "cell_type": "code",
   "execution_count": 50,
   "id": "a3038174-d55f-42e5-b0c5-f7c2ed3ae2a1",
   "metadata": {},
   "outputs": [
    {
     "name": "stdout",
     "output_type": "stream",
     "text": [
      "       age         workclass  fnlwgt   education  education-num  \\\n",
      "0       39         State-gov   77516   Bachelors             13   \n",
      "1       50  Self-emp-not-inc   83311   Bachelors             13   \n",
      "2       38           Private  215646     HS-grad              9   \n",
      "3       53           Private  234721        11th              7   \n",
      "4       28           Private  338409   Bachelors             13   \n",
      "...    ...               ...     ...         ...            ...   \n",
      "32556   27           Private  257302  Assoc-acdm             12   \n",
      "32557   40           Private  154374     HS-grad              9   \n",
      "32558   58           Private  151910     HS-grad              9   \n",
      "32559   22           Private  201490     HS-grad              9   \n",
      "32560   52      Self-emp-inc  287927     HS-grad              9   \n",
      "\n",
      "           marital-status         occupation   relationship   race     sex  \\\n",
      "0           Never-married       Adm-clerical  Not-in-family  White    Male   \n",
      "1      Married-civ-spouse    Exec-managerial        Husband  White    Male   \n",
      "2                Divorced  Handlers-cleaners  Not-in-family  White    Male   \n",
      "3      Married-civ-spouse  Handlers-cleaners        Husband  Black    Male   \n",
      "4      Married-civ-spouse     Prof-specialty           Wife  Black  Female   \n",
      "...                   ...                ...            ...    ...     ...   \n",
      "32556  Married-civ-spouse       Tech-support           Wife  White  Female   \n",
      "32557  Married-civ-spouse  Machine-op-inspct        Husband  White    Male   \n",
      "32558             Widowed       Adm-clerical      Unmarried  White  Female   \n",
      "32559       Never-married       Adm-clerical      Own-child  White    Male   \n",
      "32560  Married-civ-spouse    Exec-managerial           Wife  White  Female   \n",
      "\n",
      "       capital-gain  capital-loss  hours-per-week native-country salary  \n",
      "0              2174             0              40  United-States  <=50K  \n",
      "1                 0             0              13  United-States  <=50K  \n",
      "2                 0             0              40  United-States  <=50K  \n",
      "3                 0             0              40  United-States  <=50K  \n",
      "4                 0             0              40           Cuba  <=50K  \n",
      "...             ...           ...             ...            ...    ...  \n",
      "32556             0             0              38  United-States  <=50K  \n",
      "32557             0             0              40  United-States   >50K  \n",
      "32558             0             0              40  United-States  <=50K  \n",
      "32559             0             0              20  United-States  <=50K  \n",
      "32560         15024             0              40  United-States   >50K  \n",
      "\n",
      "[32561 rows x 15 columns]\n"
     ]
    }
   ],
   "source": [
    "print(df)"
   ]
  },
  {
   "cell_type": "markdown",
   "id": "da065c4b-d7b1-45e6-8da3-383bb003773f",
   "metadata": {},
   "source": [
    "# 1. How many people of each race are represented in this dataset?"
   ]
  },
  {
   "cell_type": "code",
   "execution_count": 15,
   "id": "f3f7fc93-d4eb-4ab5-87fd-68dd8b725de0",
   "metadata": {},
   "outputs": [
    {
     "name": "stdout",
     "output_type": "stream",
     "text": [
      "People of each race:\n",
      " race\n",
      "White                 27816\n",
      "Black                  3124\n",
      "Asian-Pac-Islander     1039\n",
      "Amer-Indian-Eskimo      311\n",
      "Other                   271\n",
      "Name: count, dtype: int64\n"
     ]
    }
   ],
   "source": [
    "race_count= df['race'].value_counts()\n",
    "print(\"People of each race:\\n\",race_count)"
   ]
  },
  {
   "cell_type": "markdown",
   "id": "a439000a-a5cd-4253-a605-1f67b0806327",
   "metadata": {},
   "source": [
    "# 2. What is the average age of men?"
   ]
  },
  {
   "cell_type": "code",
   "execution_count": 20,
   "id": "12a749f0-e493-4283-8e36-77b7a88079d8",
   "metadata": {},
   "outputs": [
    {
     "name": "stdout",
     "output_type": "stream",
     "text": [
      "Average age of the men: 39.4\n"
     ]
    }
   ],
   "source": [
    "average_age_men= df[df['sex'] == 'Male']['age'].mean()\n",
    "print(f\"Average age of the men: {average_age_men:.1f}\")"
   ]
  },
  {
   "cell_type": "markdown",
   "id": "341480b1-e539-4b81-b3ad-69f9811e4769",
   "metadata": {},
   "source": [
    "# 3. What is the percentage of people who have a Bachelor's degree?"
   ]
  },
  {
   "cell_type": "code",
   "execution_count": 45,
   "id": "a7721e47-24b8-44db-8787-1f807c03ac28",
   "metadata": {},
   "outputs": [
    {
     "name": "stdout",
     "output_type": "stream",
     "text": [
      "Percentage with Bachelor's degrees: 16.4%\n"
     ]
    }
   ],
   "source": [
    "percentage_bachelors = (df['education'] == 'Bachelors').mean() * 100\n",
    "print(f\"Percentage with Bachelor's degrees: {percentage_bachelors:.1f}%\")"
   ]
  },
  {
   "cell_type": "markdown",
   "id": "8b7c8853-d3b3-4350-a5e4-bc75d0d1deac",
   "metadata": {},
   "source": [
    "# 4. What percentage of people with advanced education (Bachelors, Masters, or Doctorate) make more than 50K?"
   ]
  },
  {
   "cell_type": "code",
   "execution_count": 83,
   "id": "67c5d1fd-42d4-4f93-92d9-651a45fee6b1",
   "metadata": {},
   "outputs": [
    {
     "name": "stdout",
     "output_type": "stream",
     "text": [
      "Percentage of people with advanced education earning >50K: 46.5%\n"
     ]
    }
   ],
   "source": [
    "advanced_education = df['education'].isin(['Bachelors', 'Masters', 'Doctorate'])\n",
    "percentage_advanced_education_rich = (df[advanced_education]['salary'] == '>50K').mean() * 100\n",
    "print(f\"Percentage of people with advanced education earning >50K: {percentage_advanced_education_rich:.1f}%\")"
   ]
  },
  {
   "cell_type": "markdown",
   "id": "d41eed83-6da9-4dc7-83cd-d6de5ec6e2c3",
   "metadata": {},
   "source": [
    "# 5. What percentage of people without advanced education make more than 50K?"
   ]
  },
  {
   "cell_type": "code",
   "execution_count": 114,
   "id": "8c10919f-0517-427e-9f03-760b89ea8f6d",
   "metadata": {},
   "outputs": [
    {
     "name": "stdout",
     "output_type": "stream",
     "text": [
      "Percentage of people without advanced education earning >50K: 17.4%\n"
     ]
    }
   ],
   "source": [
    "no_advanced_education = ~df['education'].isin(['Bachelors', 'Masters', 'Doctorate'])\n",
    "percentage_no_advanced_education_rich = (df[no_advanced_education]['salary'] == '>50K').mean() * 100\n",
    "print(f\"Percentage of people without advanced education earning >50K: {percentage_no_advanced_education_rich:.1f}%\")"
   ]
  },
  {
   "cell_type": "markdown",
   "id": "f3e0e498-7131-4169-bfba-bd723140b51d",
   "metadata": {},
   "source": [
    "# 6. What is the minimum number of hours a person works per week?"
   ]
  },
  {
   "cell_type": "code",
   "execution_count": 117,
   "id": "2cc8f0a5-c9e7-4e3c-b28b-960f413ff658",
   "metadata": {},
   "outputs": [
    {
     "name": "stdout",
     "output_type": "stream",
     "text": [
      "Minimum number of hours worked per week: 1\n"
     ]
    }
   ],
   "source": [
    "min_hours_per_week = df['hours-per-week'].min()\n",
    "print(f\"Minimum number of hours worked per week: {min_hours_per_week}\")"
   ]
  },
  {
   "cell_type": "markdown",
   "id": "b17dbc04-e5fd-4f36-bbbe-857006e2a062",
   "metadata": {},
   "source": [
    "# 7. What percentage of the people who work the minimum number of hours per week have a salary of more than 50K?"
   ]
  },
  {
   "cell_type": "code",
   "execution_count": 120,
   "id": "488279b0-cb23-446a-ad15-e8fe60727a23",
   "metadata": {},
   "outputs": [
    {
     "name": "stdout",
     "output_type": "stream",
     "text": [
      "Percentage of people working minimum hours earning >50K: 10.0%\n"
     ]
    }
   ],
   "source": [
    "min_hours_workers = df[df['hours-per-week'] == min_hours_per_week]\n",
    "min_hours_rich = min_hours_workers[min_hours_workers['salary'] == '>50K']\n",
    "percentage_min_hours_rich = (min_hours_rich.shape[0] / min_hours_workers.shape[0]) * 100\n",
    "print(f\"Percentage of people working minimum hours earning >50K: {percentage_min_hours_rich:.1f}%\")"
   ]
  },
  {
   "cell_type": "markdown",
   "id": "445cb9af-8978-4048-936a-e54f002f2efc",
   "metadata": {},
   "source": [
    "# 8. What country has the highest percentage of people that earn >50K and what is that percentage?"
   ]
  },
  {
   "cell_type": "code",
   "execution_count": 123,
   "id": "e94589c3-640e-4a01-8c75-823cc3eaeec1",
   "metadata": {},
   "outputs": [
    {
     "name": "stdout",
     "output_type": "stream",
     "text": [
      "Country with highest percentage of >50K earners: Iran (41.9%)\n"
     ]
    }
   ],
   "source": [
    "country_rich_percentage = (df[df['salary'] == '>50K'].groupby('native-country').size() / df.groupby('native-country').size()) * 100\n",
    "highest_country_percentage = country_rich_percentage.idxmax()\n",
    "highest_country_percentage_value = country_rich_percentage.max()\n",
    "print(f\"Country with highest percentage of >50K earners: {highest_country_percentage} ({highest_country_percentage_value:.1f}%)\")"
   ]
  },
  {
   "cell_type": "markdown",
   "id": "f6afd8e7-6632-4c56-bfb1-7673299f685c",
   "metadata": {},
   "source": [
    "# 9. Identify the most popular occupation for those who earn >50K in India."
   ]
  },
  {
   "cell_type": "code",
   "execution_count": 145,
   "id": "e394ef75-3a0c-42f5-a195-bdf2a4ff1a93",
   "metadata": {},
   "outputs": [
    {
     "name": "stdout",
     "output_type": "stream",
     "text": [
      "Most popular occupation for >50K earners in India: Prof-specialty\n"
     ]
    }
   ],
   "source": [
    "india_rich = df[(df['native-country'] == 'India') & (df['salary'] == '>50K')]\n",
    "top_india_occupation = india_rich['occupation'].value_counts().idxmax()\n",
    "print(f\"Most popular occupation for >50K earners in India: {top_india_occupation}\")"
   ]
  },
  {
   "cell_type": "code",
   "execution_count": null,
   "id": "e2a0a224-2430-4469-9553-a4435d0c5cb5",
   "metadata": {},
   "outputs": [],
   "source": []
  }
 ],
 "metadata": {
  "kernelspec": {
   "display_name": "Python 3 (ipykernel)",
   "language": "python",
   "name": "python3"
  },
  "language_info": {
   "codemirror_mode": {
    "name": "ipython",
    "version": 3
   },
   "file_extension": ".py",
   "mimetype": "text/x-python",
   "name": "python",
   "nbconvert_exporter": "python",
   "pygments_lexer": "ipython3",
   "version": "3.12.4"
  }
 },
 "nbformat": 4,
 "nbformat_minor": 5
}
